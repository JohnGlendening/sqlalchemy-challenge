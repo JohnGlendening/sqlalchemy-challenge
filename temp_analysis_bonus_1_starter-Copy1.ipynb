{
 "cells": [
  {
   "cell_type": "code",
   "execution_count": 3,
   "metadata": {},
   "outputs": [],
   "source": [
    "from flask import Flask, jsonify"
   ]
  },
  {
   "cell_type": "code",
   "execution_count": 4,
   "metadata": {},
   "outputs": [],
   "source": [
    "import numpy as np\n",
    "import datetime as dt\n",
    "import pandas as pd"
   ]
  },
  {
   "cell_type": "code",
   "execution_count": 5,
   "metadata": {},
   "outputs": [],
   "source": [
    "import sqlalchemy\n",
    "from sqlalchemy.ext.automap import automap_base\n",
    "from sqlalchemy.orm import Session\n",
    "from sqlalchemy import create_engine, func\n",
    "from sqlalchemy.pool import StaticPool"
   ]
  },
  {
   "cell_type": "code",
   "execution_count": 6,
   "metadata": {},
   "outputs": [],
   "source": [
    "engine = create_engine(\"sqlite:///Resources/hawaii.sqlite\", connect_args={\"check_same_thread\": False}, poolclass=StaticPool, echo=True)"
   ]
  },
  {
   "cell_type": "code",
   "execution_count": 7,
   "metadata": {},
   "outputs": [
    {
     "name": "stdout",
     "output_type": "stream",
     "text": [
      "2021-03-30 19:01:25,396 INFO sqlalchemy.engine.base.Engine SELECT CAST('test plain returns' AS VARCHAR(60)) AS anon_1\n",
      "2021-03-30 19:01:25,400 INFO sqlalchemy.engine.base.Engine ()\n",
      "2021-03-30 19:01:25,402 INFO sqlalchemy.engine.base.Engine SELECT CAST('test unicode returns' AS VARCHAR(60)) AS anon_1\n",
      "2021-03-30 19:01:25,403 INFO sqlalchemy.engine.base.Engine ()\n",
      "2021-03-30 19:01:25,405 INFO sqlalchemy.engine.base.Engine SELECT name FROM sqlite_master WHERE type='table' ORDER BY name\n",
      "2021-03-30 19:01:25,406 INFO sqlalchemy.engine.base.Engine ()\n",
      "2021-03-30 19:01:25,409 INFO sqlalchemy.engine.base.Engine PRAGMA main.table_xinfo(\"measurement\")\n",
      "2021-03-30 19:01:25,410 INFO sqlalchemy.engine.base.Engine ()\n",
      "2021-03-30 19:01:25,414 INFO sqlalchemy.engine.base.Engine SELECT sql FROM  (SELECT * FROM sqlite_master UNION ALL   SELECT * FROM sqlite_temp_master) WHERE name = ? AND type = 'table'\n",
      "2021-03-30 19:01:25,416 INFO sqlalchemy.engine.base.Engine ('measurement',)\n",
      "2021-03-30 19:01:25,419 INFO sqlalchemy.engine.base.Engine PRAGMA main.foreign_key_list(\"measurement\")\n",
      "2021-03-30 19:01:25,420 INFO sqlalchemy.engine.base.Engine ()\n",
      "2021-03-30 19:01:25,422 INFO sqlalchemy.engine.base.Engine PRAGMA temp.foreign_key_list(\"measurement\")\n",
      "2021-03-30 19:01:25,423 INFO sqlalchemy.engine.base.Engine ()\n",
      "2021-03-30 19:01:25,424 INFO sqlalchemy.engine.base.Engine SELECT sql FROM  (SELECT * FROM sqlite_master UNION ALL   SELECT * FROM sqlite_temp_master) WHERE name = ? AND type = 'table'\n",
      "2021-03-30 19:01:25,425 INFO sqlalchemy.engine.base.Engine ('measurement',)\n",
      "2021-03-30 19:01:25,429 INFO sqlalchemy.engine.base.Engine PRAGMA main.index_list(\"measurement\")\n",
      "2021-03-30 19:01:25,430 INFO sqlalchemy.engine.base.Engine ()\n",
      "2021-03-30 19:01:25,432 INFO sqlalchemy.engine.base.Engine PRAGMA temp.index_list(\"measurement\")\n",
      "2021-03-30 19:01:25,433 INFO sqlalchemy.engine.base.Engine ()\n",
      "2021-03-30 19:01:25,434 INFO sqlalchemy.engine.base.Engine PRAGMA main.index_list(\"measurement\")\n",
      "2021-03-30 19:01:25,435 INFO sqlalchemy.engine.base.Engine ()\n",
      "2021-03-30 19:01:25,437 INFO sqlalchemy.engine.base.Engine PRAGMA temp.index_list(\"measurement\")\n",
      "2021-03-30 19:01:25,438 INFO sqlalchemy.engine.base.Engine ()\n",
      "2021-03-30 19:01:25,440 INFO sqlalchemy.engine.base.Engine SELECT sql FROM  (SELECT * FROM sqlite_master UNION ALL   SELECT * FROM sqlite_temp_master) WHERE name = ? AND type = 'table'\n",
      "2021-03-30 19:01:25,441 INFO sqlalchemy.engine.base.Engine ('measurement',)\n",
      "2021-03-30 19:01:25,445 INFO sqlalchemy.engine.base.Engine PRAGMA main.table_xinfo(\"station\")\n",
      "2021-03-30 19:01:25,446 INFO sqlalchemy.engine.base.Engine ()\n",
      "2021-03-30 19:01:25,449 INFO sqlalchemy.engine.base.Engine SELECT sql FROM  (SELECT * FROM sqlite_master UNION ALL   SELECT * FROM sqlite_temp_master) WHERE name = ? AND type = 'table'\n",
      "2021-03-30 19:01:25,450 INFO sqlalchemy.engine.base.Engine ('station',)\n",
      "2021-03-30 19:01:25,453 INFO sqlalchemy.engine.base.Engine PRAGMA main.foreign_key_list(\"station\")\n",
      "2021-03-30 19:01:25,454 INFO sqlalchemy.engine.base.Engine ()\n",
      "2021-03-30 19:01:25,455 INFO sqlalchemy.engine.base.Engine PRAGMA temp.foreign_key_list(\"station\")\n",
      "2021-03-30 19:01:25,456 INFO sqlalchemy.engine.base.Engine ()\n",
      "2021-03-30 19:01:25,458 INFO sqlalchemy.engine.base.Engine SELECT sql FROM  (SELECT * FROM sqlite_master UNION ALL   SELECT * FROM sqlite_temp_master) WHERE name = ? AND type = 'table'\n",
      "2021-03-30 19:01:25,459 INFO sqlalchemy.engine.base.Engine ('station',)\n",
      "2021-03-30 19:01:25,460 INFO sqlalchemy.engine.base.Engine PRAGMA main.index_list(\"station\")\n",
      "2021-03-30 19:01:25,463 INFO sqlalchemy.engine.base.Engine ()\n",
      "2021-03-30 19:01:25,470 INFO sqlalchemy.engine.base.Engine PRAGMA temp.index_list(\"station\")\n",
      "2021-03-30 19:01:25,471 INFO sqlalchemy.engine.base.Engine ()\n",
      "2021-03-30 19:01:25,473 INFO sqlalchemy.engine.base.Engine PRAGMA main.index_list(\"station\")\n",
      "2021-03-30 19:01:25,474 INFO sqlalchemy.engine.base.Engine ()\n",
      "2021-03-30 19:01:25,476 INFO sqlalchemy.engine.base.Engine PRAGMA temp.index_list(\"station\")\n",
      "2021-03-30 19:01:25,476 INFO sqlalchemy.engine.base.Engine ()\n",
      "2021-03-30 19:01:25,478 INFO sqlalchemy.engine.base.Engine SELECT sql FROM  (SELECT * FROM sqlite_master UNION ALL   SELECT * FROM sqlite_temp_master) WHERE name = ? AND type = 'table'\n",
      "2021-03-30 19:01:25,483 INFO sqlalchemy.engine.base.Engine ('station',)\n"
     ]
    }
   ],
   "source": [
    "# Reflect Existing Database Into a New Model\n",
    "Base = automap_base()\n",
    "# Reflect the Tables\n",
    "Base.prepare(engine, reflect=True)"
   ]
  },
  {
   "cell_type": "code",
   "execution_count": 8,
   "metadata": {},
   "outputs": [],
   "source": [
    "Measurement = Base.classes.measurement\n",
    "Station = Base.classes.station"
   ]
  },
  {
   "cell_type": "code",
   "execution_count": 9,
   "metadata": {},
   "outputs": [],
   "source": [
    "session = Session(engine)"
   ]
  },
  {
   "cell_type": "code",
   "execution_count": 10,
   "metadata": {},
   "outputs": [],
   "source": [
    "app = Flask(__name__)"
   ]
  },
  {
   "cell_type": "code",
   "execution_count": 11,
   "metadata": {},
   "outputs": [
    {
     "ename": "SyntaxError",
     "evalue": "EOF while scanning triple-quoted string literal (<ipython-input-11-637be698734a>, line 26)",
     "output_type": "error",
     "traceback": [
      "\u001b[1;36m  File \u001b[1;32m\"<ipython-input-11-637be698734a>\"\u001b[1;36m, line \u001b[1;32m26\u001b[0m\n\u001b[1;33m    </html>\u001b[0m\n\u001b[1;37m           \n^\u001b[0m\n\u001b[1;31mSyntaxError\u001b[0m\u001b[1;31m:\u001b[0m EOF while scanning triple-quoted string literal\n"
     ]
    }
   ],
   "source": [
    "@app.route(\"/\")\n",
    "def welcome():\n",
    "        return \"\"\"<html>\n",
    "<h1>Hawaii Climate App (Flask API)</h1>\n",
    "<img src=\"https://i.ytimg.com/vi/3ZiMvhIO-d4/maxresdefault.jpg\" alt=\"Hawaii Weather\"/>\n",
    "<p>Precipitation Analysis:</p>\n",
    "<ul>\n",
    "  <li><a href=\"/api/v1.0/precipitation\">/api/v1.0/precipitation</a></li>\n",
    "</ul>\n",
    "<p>Station Analysis:</p>\n",
    "<ul>\n",
    "  <li><a href=\"/api/v1.0/stations\">/api/v1.0/stations</a></li>\n",
    "</ul>\n",
    "<p>Temperature Analysis:</p>\n",
    "<ul>\n",
    "  <li><a href=\"/api/v1.0/tobs\">/api/v1.0/tobs</a></li>\n",
    "</ul>\n",
    "<p>Start Day Analysis:</p>\n",
    "<ul>\n",
    "  <li><a href=\"/api/v1.0/2017-03-14\">/api/v1.0/2017-03-14</a></li>\n",
    "</ul>\n",
    "<p>Start & End Day Analysis:</p>\n",
    "<ul>\n",
    "  <li><a href=\"/api/v1.0/2017-03-14/2017-03-28\">/api/v1.0/2017-03-14/2017-03-28</a></li>\n",
    "</ul>\n",
    "</html>"
   ]
  },
  {
   "cell_type": "code",
   "execution_count": 12,
   "metadata": {},
   "outputs": [
    {
     "name": "stdout",
     "output_type": "stream",
     "text": [
      " * Serving Flask app \"__main__\" (lazy loading)\n",
      " * Environment: production\n",
      "   WARNING: This is a development server. Do not use it in a production deployment.\n",
      "   Use a production WSGI server instead.\n",
      " * Debug mode: on\n"
     ]
    },
    {
     "name": "stderr",
     "output_type": "stream",
     "text": [
      " * Restarting with windowsapi reloader\n"
     ]
    },
    {
     "ename": "SystemExit",
     "evalue": "1",
     "output_type": "error",
     "traceback": [
      "An exception has occurred, use %tb to see the full traceback.\n",
      "\u001b[1;31mSystemExit\u001b[0m\u001b[1;31m:\u001b[0m 1\n"
     ]
    },
    {
     "name": "stderr",
     "output_type": "stream",
     "text": [
      "C:\\Users\\jglen\\anaconda3\\lib\\site-packages\\IPython\\core\\interactiveshell.py:3426: UserWarning: To exit: use 'exit', 'quit', or Ctrl-D.\n",
      "  warn(\"To exit: use 'exit', 'quit', or Ctrl-D.\", stacklevel=1)\n"
     ]
    }
   ],
   "source": [
    "@app.route(\"/api/v1.0/precipitation\")\n",
    "def precipitation():\n",
    "        # Convert the Query Results to a Dictionary Using `date` as the Key and `prcp` as the Value\n",
    "        # Calculate the Date 1 Year Ago from the Last Data Point in the Database\n",
    "        one_year_ago = dt.date(2017,8,23) - dt.timedelta(days=365)\n",
    "        # Design a Query to Retrieve the Last 12 Months of Precipitation Data Selecting Only the `date` and `prcp` Values\n",
    "        prcp_data = session.query(Measurement.date, Measurement.prcp).\\\n",
    "                filter(Measurement.date >= one_year_ago).\\\n",
    "                order_by(Measurement.date).all()\n",
    "        # Convert List of Tuples Into a Dictionary\n",
    "        prcp_data_list = dict(prcp_data)\n",
    "        # Return JSON Representation of Dictionary\n",
    "        return jsonify(prcp_data_list)\n",
    "\n",
    "# Station Route\n",
    "@app.route(\"/api/v1.0/stations\")\n",
    "def stations():\n",
    "        # Return a JSON List of Stations From the Dataset\n",
    "        stations_all = session.query(Station.station, Station.name).all()\n",
    "        # Convert List of Tuples Into Normal List\n",
    "        station_list = list(stations_all)\n",
    "        # Return JSON List of Stations from the Dataset\n",
    "        return jsonify(station_list)\n",
    "\n",
    "# TOBs Route\n",
    "@app.route(\"/api/v1.0/tobs\")\n",
    "def tobs():\n",
    "        # Query for the Dates and Temperature Observations from a Year from the Last Data Point\n",
    "        one_year_ago = dt.date(2017,8,23) - dt.timedelta(days=365)\n",
    "        # Design a Query to Retrieve the Last 12 Months of Precipitation Data Selecting Only the `date` and `prcp` Values\n",
    "        tobs_data = session.query(Measurement.date, Measurement.tobs).\\\n",
    "                filter(Measurement.date >= one_year_ago).\\\n",
    "                order_by(Measurement.date).all()\n",
    "        # Convert List of Tuples Into Normal List\n",
    "        tobs_data_list = list(tobs_data)\n",
    "        # Return JSON List of Temperature Observations (tobs) for the Previous Year\n",
    "        return jsonify(tobs_data_list)\n",
    "\n",
    "# Start Day Route\n",
    "@app.route(\"/api/v1.0/<start>\")\n",
    "def start_day(start):\n",
    "        start_day = session.query(Measurement.date, func.min(Measurement.tobs), func.avg(Measurement.tobs), func.max(Measurement.tobs)).\\\n",
    "                filter(Measurement.date >= start).\\\n",
    "                group_by(Measurement.date).all()\n",
    "        # Convert List of Tuples Into Normal List\n",
    "        start_day_list = list(start_day)\n",
    "        # Return JSON List of Min Temp, Avg Temp and Max Temp for a Given Start Range\n",
    "        return jsonify(start_day_list)\n",
    "\n",
    "# Start-End Day Route\n",
    "@app.route(\"/api/v1.0/<start>/<end>\")\n",
    "def start_end_day(start, end):\n",
    "        start_end_day = session.query(Measurement.date, func.min(Measurement.tobs), func.avg(Measurement.tobs), func.max(Measurement.tobs)).\\\n",
    "                filter(Measurement.date >= start).\\\n",
    "                filter(Measurement.date <= end).\\\n",
    "                group_by(Measurement.date).all()\n",
    "        # Convert List of Tuples Into Normal List\n",
    "        start_end_day_list = list(start_end_day)\n",
    "        # Return JSON List of Min Temp, Avg Temp and Max Temp for a Given Start-End Range\n",
    "        return jsonify(start_end_day_list)\n",
    "\n",
    "# Define Main Behavior\n",
    "if __name__ == '__main__':\n",
    "    app.run(debug=True)"
   ]
  },
  {
   "cell_type": "code",
   "execution_count": 14,
   "metadata": {},
   "outputs": [
    {
     "data": {
      "text/plain": [
       "prcp     0.136360\n",
       "tobs    74.944118\n",
       "dtype: float64"
      ]
     },
     "execution_count": 14,
     "metadata": {},
     "output_type": "execute_result"
    }
   ],
   "source": [
    "# Create collections of temperature data\n",
    "juneData.mean()"
   ]
  },
  {
   "cell_type": "code",
   "execution_count": 18,
   "metadata": {},
   "outputs": [
    {
     "data": {
      "text/plain": [
       "station    USC00519523\n",
       "prcp              4.43\n",
       "tobs                85\n",
       "dtype: object"
      ]
     },
     "execution_count": 18,
     "metadata": {},
     "output_type": "execute_result"
    }
   ],
   "source": [
    "juneData.max()"
   ]
  },
  {
   "cell_type": "code",
   "execution_count": 15,
   "metadata": {},
   "outputs": [
    {
     "data": {
      "text/plain": [
       "prcp     0.216819\n",
       "tobs    71.041529\n",
       "dtype: float64"
      ]
     },
     "execution_count": 15,
     "metadata": {},
     "output_type": "execute_result"
    }
   ],
   "source": [
    "decemberData.mean()"
   ]
  },
  {
   "cell_type": "code",
   "execution_count": 17,
   "metadata": {},
   "outputs": [
    {
     "data": {
      "text/plain": [
       "station    USC00519523\n",
       "prcp              6.42\n",
       "tobs                83\n",
       "dtype: object"
      ]
     },
     "execution_count": 17,
     "metadata": {},
     "output_type": "execute_result"
    }
   ],
   "source": [
    "decemberData.max()"
   ]
  },
  {
   "cell_type": "code",
   "execution_count": 19,
   "metadata": {},
   "outputs": [
    {
     "data": {
      "text/plain": [
       "date\n",
       "2010-06-01    78\n",
       "2010-06-02    76\n",
       "2010-06-03    78\n",
       "2010-06-04    76\n",
       "2010-06-05    77\n",
       "              ..\n",
       "2017-06-26    79\n",
       "2017-06-27    74\n",
       "2017-06-28    74\n",
       "2017-06-29    76\n",
       "2017-06-30    75\n",
       "Name: tobs, Length: 1700, dtype: int64"
      ]
     },
     "execution_count": 19,
     "metadata": {},
     "output_type": "execute_result"
    }
   ],
   "source": [
    "juneTemp = juneData.tobs\n",
    "juneTemp"
   ]
  },
  {
   "cell_type": "code",
   "execution_count": 20,
   "metadata": {},
   "outputs": [
    {
     "data": {
      "text/plain": [
       "date\n",
       "2010-12-01    76\n",
       "2010-12-03    74\n",
       "2010-12-04    74\n",
       "2010-12-06    64\n",
       "2010-12-07    64\n",
       "              ..\n",
       "2016-12-27    71\n",
       "2016-12-28    71\n",
       "2016-12-29    69\n",
       "2016-12-30    65\n",
       "2016-12-31    65\n",
       "Name: tobs, Length: 1517, dtype: int64"
      ]
     },
     "execution_count": 20,
     "metadata": {},
     "output_type": "execute_result"
    }
   ],
   "source": [
    "decemberTemp = decemberData.tobs\n",
    "decemberTemp"
   ]
  },
  {
   "cell_type": "code",
   "execution_count": 21,
   "metadata": {},
   "outputs": [
    {
     "data": {
      "text/plain": [
       "Ttest_indResult(statistic=31.60372399000329, pvalue=3.9025129038616655e-191)"
      ]
     },
     "execution_count": 21,
     "metadata": {},
     "output_type": "execute_result"
    }
   ],
   "source": [
    "# Run paired t-test\n",
    "stats.ttest_ind(juneTemp,decemberTemp)"
   ]
  },
  {
   "cell_type": "markdown",
   "metadata": {},
   "source": [
    "### Analysis"
   ]
  },
  {
   "cell_type": "code",
   "execution_count": null,
   "metadata": {},
   "outputs": [],
   "source": [
    "The mean temperature difference between the June and December is 3.9 degrees Fahrenheit. This is not much of a difference. The t-test with an extremely low p-value indicates though that the difference is statistically significant. So while the difference is meaningful, the actual difference is not, thereby indicating that you can travel to Hawaii and enjoy 70 degree temperatures year-round."
   ]
  }
 ],
 "metadata": {
  "kernelspec": {
   "display_name": "Python 3",
   "language": "python",
   "name": "python3"
  },
  "language_info": {
   "codemirror_mode": {
    "name": "ipython",
    "version": 3
   },
   "file_extension": ".py",
   "mimetype": "text/x-python",
   "name": "python",
   "nbconvert_exporter": "python",
   "pygments_lexer": "ipython3",
   "version": "3.8.5"
  }
 },
 "nbformat": 4,
 "nbformat_minor": 4
}
